{
  "nbformat": 4,
  "nbformat_minor": 0,
  "metadata": {
    "colab": {
      "provenance": [],
      "authorship_tag": "ABX9TyPEvAQs2g4Nx5bufe6fAG8x",
      "include_colab_link": true
    },
    "kernelspec": {
      "name": "python3",
      "display_name": "Python 3"
    },
    "language_info": {
      "name": "python"
    }
  },
  "cells": [
    {
      "cell_type": "markdown",
      "metadata": {
        "id": "view-in-github",
        "colab_type": "text"
      },
      "source": [
        "<a href=\"https://colab.research.google.com/github/Losril/Aula1_Algoritmos/blob/main/Aula1_Algoritmos_py.ipynb\" target=\"_parent\"><img src=\"https://colab.research.google.com/assets/colab-badge.svg\" alt=\"Open In Colab\"/></a>"
      ]
    },
    {
      "cell_type": "code",
      "execution_count": null,
      "metadata": {
        "id": "BfDUsDfpHMSM"
      },
      "outputs": [],
      "source": [
        "import math\n",
        "import matplotlib.pyplot as plt\n",
        "\n",
        "fi = 2\n",
        "n = 0\n",
        "\n",
        "def function(a,b,m):\n",
        "  f=(a*fi+b)%m\n",
        "  return f\n",
        "\n",
        "listF = [] #lista para guardar os valores da funcao\n",
        "listN = [] #lista para guardar os valores de N\n",
        "\n",
        "while n < 51 :\n",
        "  n = n+1\n",
        "  listN.append(n)\n",
        "  f = function(3, 5, 31)\n",
        "  listF.append(f)\n",
        "  fi = f\n",
        "\n",
        "plt.plot(listN,listF,color = '#66CDAA')\n",
        "plt.show()"
      ]
    }
  ]
}